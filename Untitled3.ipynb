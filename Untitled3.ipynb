{
  "nbformat": 4,
  "nbformat_minor": 0,
  "metadata": {
    "colab": {
      "provenance": [],
      "authorship_tag": "ABX9TyNAacZW49IrkDQuLeU3Eufm",
      "include_colab_link": true
    },
    "kernelspec": {
      "name": "python3",
      "display_name": "Python 3"
    },
    "language_info": {
      "name": "python"
    }
  },
  "cells": [
    {
      "cell_type": "markdown",
      "metadata": {
        "id": "view-in-github",
        "colab_type": "text"
      },
      "source": [
        "<a href=\"https://colab.research.google.com/github/cyber-rose/stampscam/blob/master/Untitled3.ipynb\" target=\"_parent\"><img src=\"https://colab.research.google.com/assets/colab-badge.svg\" alt=\"Open In Colab\"/></a>"
      ]
    },
    {
      "cell_type": "code",
      "execution_count": null,
      "metadata": {
        "id": "dMb2Rik6vRpb"
      },
      "outputs": [],
      "source": [
        "def passfilter (freqlow,freqhigh,RorC1,RorC2):\n",
        "    comp = round((1/(2*3.1415*freqlow*RorC1)),10)\n",
        "    comp1 = round(1/(2*3.1415*freqhigh*RorC2),10)\n",
        "    print (\"with an input value of {} for the lowpass filter you should use {}. With an input value of {} for the lowpass filter you should use {}\".format(RorC1,comp,RorC2,comp1) )\n",
        "    return "
      ]
    },
    {
      "cell_type": "code",
      "source": [
        "passfilter(160,320,100*10**-9,100*10**-9)"
      ],
      "metadata": {
        "id": "lUOKecN3vSmS"
      },
      "execution_count": null,
      "outputs": []
    }
  ]
}